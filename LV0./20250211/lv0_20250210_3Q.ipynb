{
 "cells": [
  {
   "cell_type": "markdown",
   "metadata": {},
   "source": [
    "== 1. 외계어 사전 ==\n",
    "\n",
    "PROGRAMMERS-962 행성에 불시착한 우주비행사 머쓱이는 외계행성의 언어를 공부하려고 합니다. \n",
    "알파벳이 담긴 배열 spell과 외계어 사전 dic이 매개변수로 주어집니다. \n",
    "spell에 담긴 알파벳을 한번씩만 모두 사용한 단어가 dic에 존재한다면 \n",
    "1, 존재하지 않는다면 2를 return하도록 solution 함수를 완성해주세요.\n",
    "\n",
    "spell\tdic\tresult\n",
    "[\"p\", \"o\", \"s\"]\t[\"sod\", \"eocd\", \"qixm\", \"adio\", \"soo\"]\t2\n",
    "[\"z\", \"d\", \"x\"]\t[\"def\", \"dww\", \"dzx\", \"loveaw\"]\t1\n",
    "[\"s\", \"o\", \"m\", \"d\"]\t[\"moos\", \"dzx\", \"smm\", \"sunmmo\", \"som\"]\t2"
   ]
  },
  {
   "cell_type": "code",
   "execution_count": 5,
   "metadata": {},
   "outputs": [
    {
     "name": "stdout",
     "output_type": "stream",
     "text": [
      "2\n"
     ]
    }
   ],
   "source": [
    "def solution(spell, dic):\n",
    "    answer = 2\n",
    "\n",
    "    #단어를 집합으로\n",
    "    spell_set = set(spell)\n",
    "    # print(spell_set)\n",
    "\n",
    "    # 단어를 집합으로 변환하여 비교\n",
    "    for word in dic:\n",
    "        if spell_set == set(word):\n",
    "            return 1\n",
    "\n",
    "\n",
    "    return answer\n",
    "\n",
    "print(solution([\"p\", \"o\", \"s\"], [\"sod\", \"eocd\", \"qixm\", \"adio\", \"soo\"]))"
   ]
  },
  {
   "cell_type": "markdown",
   "metadata": {},
   "source": [
    "=== 2. 삼각형의 완성조건 ===\n",
    "\n",
    "선분 세 개로 삼각형을 만들기 위해서는 다음과 같은 조건을 만족해야 합니다.\n",
    "가장 긴 변의 길이는 다른 두 변의 길이의 합보다 작아야 합니다.\n",
    "삼각형의 두 변의 길이가 담긴 배열 sides이 매개변수로 주어집니다. \n",
    "나머지 한 변이 될 수 있는 정수의 개수를 return하도록 solution 함수를 완성해주세요.\n",
    "\n",
    "sides\tresult\n",
    "[1, 2]\t1\n",
    "[3, 6]\t5\n",
    "[11, 7]\t13"
   ]
  },
  {
   "cell_type": "code",
   "execution_count": null,
   "metadata": {},
   "outputs": [],
   "source": [
    "def solution(sides):\n",
    "    a, b = sorted(sides)  # 두 변을 정렬하여 a <= b로 만들기\n",
    "    \n",
    "    # 1. 가장 긴 변이 주어진 두 변 중 하나일 경우 (c <= a + b)\n",
    "    count1 = b - (b - a)  # 가능한 c의 범위: (b - a + 1) ~ b\n",
    "    \n",
    "    # 2. 새로운 변이 가장 긴 변이 될 경우 (a + b > c)\n",
    "    count2 = (a + b) - (b + 1)  # 가능한 c의 범위: (b + 1) ~ (a + b - 1)\n",
    "    \n",
    "    return count1 + count2\n",
    "\n",
    "print(solution([1, 2]))"
   ]
  },
  {
   "cell_type": "code",
   "execution_count": 4,
   "metadata": {},
   "outputs": [
    {
     "name": "stdout",
     "output_type": "stream",
     "text": [
      "1 2\n",
      "0\n"
     ]
    }
   ],
   "source": [
    "def solution(sides):\n",
    "    # 가장 긴 변은 나머지 두개 변의 합보다 작거나 같아야함\n",
    "    \n",
    "    a, b = sorted(sides)\n",
    "    \n",
    "    #b가 가장 긴변이라고 할떄 \n",
    "    #b <= a + c      => b -  b + a - 1 + 1  < c < \n",
    "    #b (가장 긴 변)\n",
    "    #a (1번 변)\n",
    "    #c (2번 변)\n",
    "\n",
    "\n",
    "    #c가 가장 긴변이라고 할떄 \n",
    "    # (b+1) < c  < (a + b - 1)\n",
    "    # \n",
    "    \n",
    "    return 0\n",
    "\n",
    "print(solution([1, 2])) # 1"
   ]
  },
  {
   "cell_type": "markdown",
   "metadata": {},
   "source": [
    "=== 3. 다항식 더하기 ===\n",
    "한 개 이상의 항의 합으로 이루어진 식을 다항식이라고 합니다. \n",
    "다항식을 계산할 때는 동류항끼리 계산해 정리합니다. \n",
    "덧셈으로 이루어진 다항식 polynomial이 매개변수로 주어질 때, 동류항끼리 더한 결괏값을 문자열로 return 하도록 solution 함수를 완성해보세요. \n",
    "같은 식이라면 가장 짧은 수식을 return 합니다.\n",
    "\n",
    "polynomial\tresult\n",
    "\"3x + 7 + x\"\t\"4x + 7\"\n",
    "\"x + x + x\"\t\"3x\""
   ]
  },
  {
   "cell_type": "code",
   "execution_count": null,
   "metadata": {},
   "outputs": [],
   "source": [
    "# 해결방법 1:\n",
    "def solution(polynomial):\n",
    "    terms = polynomial.split(\" + \")\n",
    "    x_sum, num_sum = 0, 0\n",
    "    \n",
    "    for term in terms:\n",
    "        if \"x\" in term:\n",
    "            coef = term.replace(\"x\", \"\")\n",
    "            x_sum += int(coef) if coef else 1\n",
    "        else:\n",
    "            num_sum += int(term)\n",
    "    \n",
    "    result = []\n",
    "    if x_sum:\n",
    "        result.append(f\"{x_sum if x_sum != 1 else ''}x\")\n",
    "    if num_sum:\n",
    "        result.append(str(num_sum))\n",
    "    \n",
    "    return \" + \".join(result)\n",
    "\n",
    "print(solution(\"3x + 7 + x\"))"
   ]
  },
  {
   "cell_type": "code",
   "execution_count": null,
   "metadata": {},
   "outputs": [],
   "source": [
    "# 해결방법 2\n",
    "def solution(polynomial):\n",
    "    xnum = 0\n",
    "    const = 0\n",
    "    for c in polynomial.split(' + '):\n",
    "        if c.isdigit():\n",
    "            const+=int(c)\n",
    "        else:\n",
    "            xnum = xnum+1 if c=='x' else xnum+int(c[:-1])\n",
    "    if xnum == 0:\n",
    "        return str(const)\n",
    "    elif xnum==1:\n",
    "        return 'x + '+str(const) if const!=0 else 'x'\n",
    "    else:\n",
    "        return f'{xnum}x + {const}' if const!=0 else f'{xnum}x'\n",
    "\n",
    "\n",
    "print(solution(\"3x + 7 + x\"))"
   ]
  },
  {
   "cell_type": "code",
   "execution_count": 25,
   "metadata": {},
   "outputs": [
    {
     "name": "stdout",
     "output_type": "stream",
     "text": [
      "4x + 7\n"
     ]
    }
   ],
   "source": [
    "#어제 문제 복기 시도 1\n",
    "\n",
    "from functools import reduce # lambda와 함께 사용됨\n",
    "\n",
    "def solution(polynomial):\n",
    "\n",
    "    polynomial = polynomial.split(\"+\")\n",
    "\n",
    "    const = 0\n",
    "    x_sum = 0\n",
    "\n",
    "    for word in polynomial:\n",
    "        if \"x\" in word:\n",
    "            word = word.replace(\"x\", \"1\").strip()\n",
    "             \n",
    "            # 각 문자(숫자)를 정수 리스트로 변환\n",
    "            word = list(map(int, list(word)))  \n",
    "            word = reduce(lambda x, y: x * y, word)\n",
    "\n",
    "            x_sum += word\n",
    "            \n",
    "        else:\n",
    "            const += int(word)\n",
    "\n",
    "    return f\"{x_sum}x + {const}\"\n",
    "\n",
    "print(solution(\"3x + 7 + x\"))"
   ]
  },
  {
   "cell_type": "markdown",
   "metadata": {},
   "source": [
    "=== 4. 캐릭터의 좌표 ===\n",
    "머쓱이는 RPG게임을 하고 있습니다. 게임에는 up, down, left, right 방향키가 있으며 각 키를 누르면 위, 아래, 왼쪽, 오른쪽으로 한 칸씩 이동합니다.\n",
    " 예를 들어 [0,0]에서 up을 누른다면 캐릭터의 좌표는 [0, 1], down을 누른다면 [0, -1], left를 누른다면 [-1, 0], right를 누른다면 [1, 0]입니다. \n",
    " 머쓱이가 입력한 방향키의 배열 keyinput와 맵의 크기 board이 매개변수로 주어집니다. \n",
    " 캐릭터는 항상 [0,0]에서 시작할 때 키 입력이 모두 끝난 뒤에 캐릭터의 좌표 [x, y]를 return하도록 solution 함수를 완성해주세요.\n",
    "\n",
    "[0, 0]은 board의 정 중앙에 위치합니다. \n",
    "예를 들어 board의 가로 크기가 9라면 캐릭터는 왼쪽으로 최대 [-4, 0]까지 오른쪽으로 최대 [4, 0]까지 이동할 수 있습니다.\n",
    "\n",
    "keyinput\tboard\tresult\n",
    "[\"left\", \"right\", \"up\", \"right\", \"right\"]\t[11, 11]\t[2, 1]\n",
    "[\"down\", \"down\", \"down\", \"down\", \"down\"]\t[7, 9]\t[0, -4]"
   ]
  },
  {
   "cell_type": "code",
   "execution_count": 41,
   "metadata": {},
   "outputs": [
    {
     "name": "stdout",
     "output_type": "stream",
     "text": [
      "[2, 1]\n"
     ]
    }
   ],
   "source": [
    "def solution(keyinput, board):\n",
    "    answer = 0\n",
    "\n",
    "    x_axis = 0\n",
    "    y_axis = 0\n",
    "\n",
    "    x_max, y_max = board\n",
    "\n",
    "    x_median = x_max-1/2\n",
    "    y_median = y_max-1/2\n",
    "\n",
    "    for direction in keyinput:\n",
    "        if direction == \"left\":\n",
    "            if abs(x_axis) <= x_median:\n",
    "                x_axis -= 1\n",
    "        elif direction == \"right\":\n",
    "            if abs(x_axis) <= x_median:\n",
    "                x_axis += 1\n",
    "        elif direction == \"down\":\n",
    "            if abs(y_axis) <= y_median:\n",
    "                y_axis -= 1\n",
    "        elif direction == \"up\":\n",
    "            if abs(y_axis) <= y_median:\n",
    "                y_axis += 1\n",
    "\n",
    "    return [x_axis, y_axis]\n",
    "\n",
    "    \n",
    "\n",
    "print(solution([\"left\", \"right\", \"up\", \"right\", \"right\"], [11, 11]))\n"
   ]
  },
  {
   "cell_type": "markdown",
   "metadata": {},
   "source": [
    "=== 5. 배열 원소의 길이 ===\n",
    "\n",
    "문자열 배열 strlist가 매개변수로 주어집니다. strlist 각 원소의 길이를 담은 배열을 return하도록 solution 함수를 완성해주세요.\n",
    "\n",
    "[\"We\", \"are\", \"the\", \"world!\"]\t[2, 3, 3, 6]\n",
    "[\"I\", \"Love\", \"Programmers.\"]\t[1, 4, 12]\n"
   ]
  },
  {
   "cell_type": "code",
   "execution_count": 45,
   "metadata": {},
   "outputs": [
    {
     "name": "stdout",
     "output_type": "stream",
     "text": [
      "[2, 3, 3, 6]\n"
     ]
    }
   ],
   "source": [
    "def solution(strlist):\n",
    "    return list( len(i) for i in strlist)\n",
    "    #  return list(map(len, strlist)) #! len도 사용이 가능한 상황인듯\n",
    "\n",
    "print(solution([\"We\", \"are\", \"the\", \"world!\"]))"
   ]
  },
  {
   "cell_type": "markdown",
   "metadata": {},
   "source": [
    "=== 6. 컨트롤 제트 ===\n",
    "숫자와 \"Z\"가 공백으로 구분되어 담긴 문자열이 주어집니다. \n",
    "문자열에 있는 숫자를 차례대로 더하려고 합니다. \n",
    "이 때 \"Z\"가 나오면 바로 전에 더했던 숫자를 뺀다는 뜻입니다. \n",
    "숫자와 \"Z\"로 이루어진 문자열 s가 주어질 때, 머쓱이가 구한 값을 return 하도록 solution 함수를 완성해보세요.\n",
    "\n",
    "s\tresult\n",
    "\"1 2 Z 3\"\t4\n",
    "\"10 20 30 40\"\t100\n",
    "\"10 Z 20 Z 1\"\t1\n",
    "\"10 Z 20 Z\"\t0\n",
    "\"-1 -2 -3 Z\"\t-3"
   ]
  },
  {
   "cell_type": "code",
   "execution_count": 61,
   "metadata": {},
   "outputs": [
    {
     "name": "stdout",
     "output_type": "stream",
     "text": [
      "-3\n"
     ]
    }
   ],
   "source": [
    "# 첫번째 시도\n",
    "#s[i-1]을 참조하는데, 만약 \"Z\"가 첫 번째 요소라면 s[i-1]은 IndexError 발생.\n",
    "#해결 방법: 스택(stack)을 사용하면 자연스럽게 해결됨.\n",
    "#Z가 나오면 이전 값을 빼는 대신 pop()으로 제거\n",
    "def solution(s):\n",
    "\n",
    "    s_sum = 0\n",
    "\n",
    "    s = s.split(\" \")\n",
    "    for i in range(0, len(s)):\n",
    "        if s[i] == \"Z\":\n",
    "            s_sum -= int(s[i-1])       \n",
    "        else:\n",
    "            s_sum += int(s[i])    \n",
    "    \n",
    "    return s_sum\n",
    "\n",
    "print(solution(\"-1 -2 -3 Z\"))"
   ]
  },
  {
   "cell_type": "code",
   "execution_count": 63,
   "metadata": {},
   "outputs": [
    {
     "name": "stdout",
     "output_type": "stream",
     "text": [
      "4\n",
      "100\n"
     ]
    }
   ],
   "source": [
    "#리팩토링된 코드 \n",
    "#리스트(LIST)랑 스택(STACK)이랑 다른것인가?\n",
    "\n",
    "#리스트(list)는 여러 용도로 사용 가능 (임의의 위치 삽입/삭제 가능)\n",
    "#스택(stack)은 특정한 방식(LIFO)으로만 사용됨 (가장 마지막 요소만 pop() 가능)\n",
    "\n",
    "def solution(s):\n",
    "    stack = []\n",
    "    \n",
    "    for item in s.split():\n",
    "        if item == \"Z\":\n",
    "            if stack:  \n",
    "                # 스택이 비어있지 않다면 pop()\n",
    "                #2까지 들어가있었는데 pop하면 가장 최근에 넣은값이 리스트에서 사라짐\n",
    "                stack.pop() \n",
    "        else:\n",
    "            stack.append(int(item))\n",
    "\n",
    "    return sum(stack)\n",
    "\n",
    "# 테스트\n",
    "print(solution(\"1 2 Z 3\"))  # 4\n",
    "print(solution(\"10 20 30 40\"))  # 100\n"
   ]
  },
  {
   "cell_type": "markdown",
   "metadata": {},
   "source": [
    "=== 7. 숨어있는 숫자의 덧셈(1) ===\n",
    "\n",
    "문자열 my_string이 매개변수로 주어집니다. my_string안의 모든 자연수들의 합을 return하도록 solution 함수를 완성해주세요.\n",
    "\n",
    "my_string\tresult\n",
    "\"aAb1B2cC34oOp\"\t10\n",
    "\"1a2b3c4d123\"\t16"
   ]
  },
  {
   "cell_type": "code",
   "execution_count": 68,
   "metadata": {},
   "outputs": [
    {
     "name": "stdout",
     "output_type": "stream",
     "text": [
      "10\n"
     ]
    }
   ],
   "source": [
    "# 첫번째 시도\n",
    "# 리스트 컴프리헨션(list comprehension)**을 활용하면 더 깔끔하게 만들 수 있다.\n",
    "def solution(my_string):\n",
    "\n",
    "    digit_sum = []\n",
    "\n",
    "    for i in my_string:\n",
    "        if i.isdigit():\n",
    "            digit_sum.append(int(i))\n",
    "\n",
    "    return sum(digit_sum)\n",
    "\n",
    "print(solution(\"aAb1B2cC34oOp\"))"
   ]
  },
  {
   "cell_type": "code",
   "execution_count": null,
   "metadata": {},
   "outputs": [],
   "source": [
    "#리팩토링된 코드\n",
    "def solution(my_string):\n",
    "    #리스트 컴프리핸션으로 표현\n",
    "    return sum(int(i) for i in my_string if i.isdigit())\n",
    "\n",
    "print(solution(\"aAb1B2cC34oOp\"))  # 10\n"
   ]
  },
  {
   "cell_type": "markdown",
   "metadata": {},
   "source": [
    "=== 8. 모음 제거===\n",
    "영어에선 a, e, i, o, u 다섯 가지 알파벳을 모음으로 분류합니다. 문자열 my_string이 매개변수로 주어질 때 모음을 제거한 문자열을 return하도록 solution 함수를 완성해주세요.\n",
    "\n",
    "my_string\tresult\n",
    "\"bus\"\t\"bs\"\n",
    "\"nice to meet you\"\t\"nc t mt y\""
   ]
  },
  {
   "cell_type": "code",
   "execution_count": 71,
   "metadata": {},
   "outputs": [
    {
     "name": "stdout",
     "output_type": "stream",
     "text": [
      "b s\n"
     ]
    }
   ],
   "source": [
    "#첫번째 시도\n",
    "#리스트 컴프리헨션이나 filter()를 사용하면 더 깔끔한 코드 가능.\n",
    "def solution(my_string):\n",
    "\n",
    "    #한개라도 포함되는지 확인하는 any()함수\n",
    "    # if any(vowel in \"bus\" for vowel in [\"a\", \"e\", \"i\", \"o\", \"u\"]):\n",
    "    #     print(\"Yes\")\n",
    "    # else:\n",
    "    #     print(\"No\")\n",
    "\n",
    "    for character in [\"a\", \"e\", \"i\", \"o\", \"u\"]:\n",
    "        if character in my_string:\n",
    "            my_string = my_string.replace(character, \" \")\n",
    "\n",
    "    return my_string\n",
    "\n",
    "print(solution(\"bus\"))"
   ]
  },
  {
   "cell_type": "code",
   "execution_count": 72,
   "metadata": {},
   "outputs": [
    {
     "name": "stdout",
     "output_type": "stream",
     "text": [
      "bs\n"
     ]
    }
   ],
   "source": [
    "#리팩토링된 코드 - 1\n",
    "def solution(my_string):\n",
    "    for vowel in \"aeiou\":  # 리스트 대신 문자열 활용 가능\n",
    "        my_string = my_string.replace(vowel, \"\")\n",
    "    return my_string\n",
    "\n",
    "print(solution(\"bus\"))  # \"bs\"\n"
   ]
  },
  {
   "cell_type": "code",
   "execution_count": null,
   "metadata": {},
   "outputs": [],
   "source": [
    "#리펙토링된 코드 -2\n",
    "def solution(my_string):\n",
    "    return \"\".join([char for char in my_string if char not in \"aeiou\"])\n",
    "\n",
    "print(solution(\"bus\"))  # \"bs\""
   ]
  },
  {
   "cell_type": "markdown",
   "metadata": {},
   "source": [
    "=== 9. 최대값 만들기 ===\n",
    "\n",
    "정수 배열 numbers가 매개변수로 주어집니다. numbers의 원소 중 두 개를 곱해 만들 수 있는 최댓값을 return하도록 solution 함수를 완성해주세요.\n",
    "\n",
    "numbers\tresult\n",
    "[1, 2, 3, 4, 5]\t20\n",
    "[0, 31, 24, 10, 1, 9]\t744\n"
   ]
  },
  {
   "cell_type": "code",
   "execution_count": 79,
   "metadata": {},
   "outputs": [
    {
     "name": "stdout",
     "output_type": "stream",
     "text": [
      "744\n",
      "None\n"
     ]
    }
   ],
   "source": [
    "# 시도1 - 정수 이므로 가장 큰 수 두개를 골라서 곱해도 답이나옴\n",
    "def solution(numbers):\n",
    "\n",
    "    num = sorted(numbers)\n",
    "    print(num[len(num)-1] * num[len(num)-2])\n",
    "    \n",
    "\n",
    "print(solution([0, 31, 24, 10, 1, 9]))"
   ]
  },
  {
   "cell_type": "code",
   "execution_count": null,
   "metadata": {},
   "outputs": [],
   "source": [
    "#시도2 - 모든 조합을 통해서 가장 큰것 찾기 #!중요하다고 생각함\n",
    "from itertools import combinations\n",
    "\n",
    "def solution(numbers):\n",
    "    # 모든 두 개의 조합을 생성하여 곱한 값들을 set에 저장\n",
    "    products = {a * b for a, b in combinations(numbers, 2)}\n",
    "    return max(products)  # 최댓값 반환\n",
    "\n",
    "# 테스트\n",
    "print(solution([1, 2, 3, 4]))  # 12"
   ]
  },
  {
   "cell_type": "markdown",
   "metadata": {},
   "source": [
    "=== 10. 주사위의 갯수 ===\n",
    "머쓱이는 직육면체 모양의 상자를 하나 가지고 있는데 이 상자에 정육면체 모양의 주사위를 최대한 많이 채우고 싶습니다. 상자의 가로, 세로, 높이가 저장되어있는 배열 box와 주사위 모서리의 길이 정수 n이 매개변수로 주어졌을 때, 상자에 들어갈 수 있는 주사위의 최대 개수를 return 하도록 solution 함수를 완성해주세요.\n",
    "\n",
    "box\tn\tresult\n",
    "[1, 1, 1]\t1\t1\n",
    "[10, 8, 6]\t3\t12"
   ]
  },
  {
   "cell_type": "code",
   "execution_count": 83,
   "metadata": {},
   "outputs": [
    {
     "name": "stdout",
     "output_type": "stream",
     "text": [
      "12\n"
     ]
    }
   ],
   "source": [
    "#시도 1\n",
    "def solution(box, n):\n",
    "\n",
    "    multi = 1\n",
    "\n",
    "    #가로, 세로, 높이 에 몇개씩 들어가는지 확인\n",
    "    for m in box:\n",
    "        multi *= m//n\n",
    "    \n",
    "    return multi\n",
    "\n",
    "print(solution([10, 8, 6], 3))"
   ]
  },
  {
   "cell_type": "code",
   "execution_count": null,
   "metadata": {},
   "outputs": [],
   "source": [
    "#리팩토링된 코드 - 1 \n",
    "# multi를 따로 선언하지 않고, reduce()를 사용하면 더 깔끔한 코드 가능!\n",
    "# Python 3.8 이상에서는 math.prod()를 사용하면 곱셈을 더 직관적으로 처리 가능.\n",
    "from functools import reduce\n",
    "\n",
    "def solution(box, n):\n",
    "    return reduce(lambda x, y: x * y, [m // n for m in box])\n",
    "\n",
    "print(solution([10, 8, 6], 3))  # 12\n",
    "\n",
    "\n"
   ]
  },
  {
   "cell_type": "code",
   "execution_count": null,
   "metadata": {},
   "outputs": [],
   "source": [
    "#리팩토링된 코드 - 2\n",
    "import math\n",
    "\n",
    "def solution(box, n):\n",
    "    return math.prod(m // n for m in box)\n",
    "\n",
    "print(solution([10, 8, 6], 3))  # 12"
   ]
  },
  {
   "cell_type": "markdown",
   "metadata": {},
   "source": [
    "=== 11. 공 던지기 ===\n",
    "머쓱이는 친구들과 동그랗게 서서 공 던지기 게임을 하고 있습니다. 공은 1번부터 던지며 오른쪽으로 한 명을 건너뛰고 그다음 사람에게만 던질 수 있습니다. \n",
    "친구들의 번호가 들어있는 정수 배열 numbers와 정수 K가 주어질 때, \n",
    "k번째로 공을 던지는 사람의 번호는 무엇인지 return 하도록 solution 함수를 완성해보세요.\n",
    "\n",
    "numbers\tk\tresult\n",
    "[1, 2, 3, 4]\t2\t3\n",
    "[1, 2, 3, 4, 5, 6]\t5\t3\n",
    "[1, 2, 3]\t3\t2"
   ]
  },
  {
   "cell_type": "code",
   "execution_count": 85,
   "metadata": {},
   "outputs": [
    {
     "name": "stdout",
     "output_type": "stream",
     "text": [
      "3\n"
     ]
    }
   ],
   "source": [
    "# 시도 안하고 힌트 얻음\n",
    "def solution(numbers, k):\n",
    "    n = len(numbers)  # 총 사람 수\n",
    "    index = (2 * (k - 1)) % n  # k번째로 던지는 사람의 인덱스\n",
    "    return numbers[index]  # 해당 인덱스의 사람 번호 반환\n",
    "\n",
    "# 테스트\n",
    "print(solution([1, 2, 3, 4], 2))  # 3\n",
    "\n"
   ]
  }
 ],
 "metadata": {
  "kernelspec": {
   "display_name": "myenv",
   "language": "python",
   "name": "python3"
  },
  "language_info": {
   "codemirror_mode": {
    "name": "ipython",
    "version": 3
   },
   "file_extension": ".py",
   "mimetype": "text/x-python",
   "name": "python",
   "nbconvert_exporter": "python",
   "pygments_lexer": "ipython3",
   "version": "3.9.20"
  }
 },
 "nbformat": 4,
 "nbformat_minor": 2
}
