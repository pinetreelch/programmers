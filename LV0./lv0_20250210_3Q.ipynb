{
 "cells": [
  {
   "cell_type": "markdown",
   "metadata": {},
   "source": [
    "== 1. 외계어 사전 ==\n",
    "\n",
    "PROGRAMMERS-962 행성에 불시착한 우주비행사 머쓱이는 외계행성의 언어를 공부하려고 합니다. \n",
    "알파벳이 담긴 배열 spell과 외계어 사전 dic이 매개변수로 주어집니다. \n",
    "spell에 담긴 알파벳을 한번씩만 모두 사용한 단어가 dic에 존재한다면 \n",
    "1, 존재하지 않는다면 2를 return하도록 solution 함수를 완성해주세요.\n",
    "\n",
    "spell\tdic\tresult\n",
    "[\"p\", \"o\", \"s\"]\t[\"sod\", \"eocd\", \"qixm\", \"adio\", \"soo\"]\t2\n",
    "[\"z\", \"d\", \"x\"]\t[\"def\", \"dww\", \"dzx\", \"loveaw\"]\t1\n",
    "[\"s\", \"o\", \"m\", \"d\"]\t[\"moos\", \"dzx\", \"smm\", \"sunmmo\", \"som\"]\t2"
   ]
  },
  {
   "cell_type": "code",
   "execution_count": 5,
   "metadata": {},
   "outputs": [
    {
     "name": "stdout",
     "output_type": "stream",
     "text": [
      "2\n"
     ]
    }
   ],
   "source": [
    "def solution(spell, dic):\n",
    "    answer = 2\n",
    "\n",
    "    #단어를 집합으로\n",
    "    spell_set = set(spell)\n",
    "    # print(spell_set)\n",
    "\n",
    "    # 단어를 집합으로 변환하여 비교\n",
    "    for word in dic:\n",
    "        if spell_set == set(word):\n",
    "            return 1\n",
    "\n",
    "\n",
    "    return answer\n",
    "\n",
    "print(solution([\"p\", \"o\", \"s\"], [\"sod\", \"eocd\", \"qixm\", \"adio\", \"soo\"]))"
   ]
  },
  {
   "cell_type": "markdown",
   "metadata": {},
   "source": [
    "=== 2. 삼각형의 완성조건 ===\n",
    "\n",
    "선분 세 개로 삼각형을 만들기 위해서는 다음과 같은 조건을 만족해야 합니다.\n",
    "가장 긴 변의 길이는 다른 두 변의 길이의 합보다 작아야 합니다.\n",
    "삼각형의 두 변의 길이가 담긴 배열 sides이 매개변수로 주어집니다. \n",
    "나머지 한 변이 될 수 있는 정수의 개수를 return하도록 solution 함수를 완성해주세요.\n",
    "\n",
    "sides\tresult\n",
    "[1, 2]\t1\n",
    "[3, 6]\t5\n",
    "[11, 7]\t13"
   ]
  },
  {
   "cell_type": "code",
   "execution_count": null,
   "metadata": {},
   "outputs": [],
   "source": [
    "def solution(sides):\n",
    "    a, b = sorted(sides)  # 두 변을 정렬하여 a <= b로 만들기\n",
    "    \n",
    "    # 1. 가장 긴 변이 주어진 두 변 중 하나일 경우 (c <= a + b)\n",
    "    count1 = b - (b - a)  # 가능한 c의 범위: (b - a + 1) ~ b\n",
    "    \n",
    "    # 2. 새로운 변이 가장 긴 변이 될 경우 (a + b > c)\n",
    "    count2 = (a + b) - (b + 1)  # 가능한 c의 범위: (b + 1) ~ (a + b - 1)\n",
    "    \n",
    "    return count1 + count2\n",
    "\n",
    "print(solution([1, 2]))"
   ]
  },
  {
   "cell_type": "markdown",
   "metadata": {},
   "source": [
    "=== 3. 다항식 더하기 ===\n",
    "한 개 이상의 항의 합으로 이루어진 식을 다항식이라고 합니다. \n",
    "다항식을 계산할 때는 동류항끼리 계산해 정리합니다. \n",
    "덧셈으로 이루어진 다항식 polynomial이 매개변수로 주어질 때, 동류항끼리 더한 결괏값을 문자열로 return 하도록 solution 함수를 완성해보세요. \n",
    "같은 식이라면 가장 짧은 수식을 return 합니다.\n",
    "\n",
    "polynomial\tresult\n",
    "\"3x + 7 + x\"\t\"4x + 7\"\n",
    "\"x + x + x\"\t\"3x\""
   ]
  },
  {
   "cell_type": "code",
   "execution_count": null,
   "metadata": {},
   "outputs": [],
   "source": [
    "# 해결방법 1:\n",
    "def solution(polynomial):\n",
    "    terms = polynomial.split(\" + \")\n",
    "    x_sum, num_sum = 0, 0\n",
    "    \n",
    "    for term in terms:\n",
    "        if \"x\" in term:\n",
    "            coef = term.replace(\"x\", \"\")\n",
    "            x_sum += int(coef) if coef else 1\n",
    "        else:\n",
    "            num_sum += int(term)\n",
    "    \n",
    "    result = []\n",
    "    if x_sum:\n",
    "        result.append(f\"{x_sum if x_sum != 1 else ''}x\")\n",
    "    if num_sum:\n",
    "        result.append(str(num_sum))\n",
    "    \n",
    "    return \" + \".join(result)\n",
    "\n",
    "print(solution(\"3x + 7 + x\"))"
   ]
  },
  {
   "cell_type": "code",
   "execution_count": null,
   "metadata": {},
   "outputs": [],
   "source": [
    "# 해결방법 2\n",
    "def solution(polynomial):\n",
    "    xnum = 0\n",
    "    const = 0\n",
    "    for c in polynomial.split(' + '):\n",
    "        if c.isdigit():\n",
    "            const+=int(c)\n",
    "        else:\n",
    "            xnum = xnum+1 if c=='x' else xnum+int(c[:-1])\n",
    "    if xnum == 0:\n",
    "        return str(const)\n",
    "    elif xnum==1:\n",
    "        return 'x + '+str(const) if const!=0 else 'x'\n",
    "    else:\n",
    "        return f'{xnum}x + {const}' if const!=0 else f'{xnum}x'\n",
    "\n",
    "\n",
    "print(solution(\"3x + 7 + x\"))"
   ]
  }
 ],
 "metadata": {
  "kernelspec": {
   "display_name": "myenv",
   "language": "python",
   "name": "python3"
  },
  "language_info": {
   "codemirror_mode": {
    "name": "ipython",
    "version": 3
   },
   "file_extension": ".py",
   "mimetype": "text/x-python",
   "name": "python",
   "nbconvert_exporter": "python",
   "pygments_lexer": "ipython3",
   "version": "3.9.20"
  }
 },
 "nbformat": 4,
 "nbformat_minor": 2
}
